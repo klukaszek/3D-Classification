{
 "cells": [
  {
   "cell_type": "markdown",
   "metadata": {},
   "source": [
    "# Import Dependencies"
   ]
  },
  {
   "cell_type": "code",
   "execution_count": 4,
   "metadata": {},
   "outputs": [
    {
     "name": "stdout",
     "output_type": "stream",
     "text": [
      "cpu\n"
     ]
    }
   ],
   "source": [
    "import torch\n",
    "import matplotlib.pyplot as plt\n",
    "import numpy as np\n",
    "from Scripts import VoxNet\n",
    "\n",
    "# Use GPU if available, has issues with these small batch sizes\n",
    "# if torch.cuda.is_available(): \n",
    "#     dev = \"cuda:0\" \n",
    "# else: \n",
    "#     dev = \"cpu\"\n",
    "\n",
    "dev = \"cpu\"\n",
    "\n",
    "print(dev)\n",
    "device = torch.device(dev)"
   ]
  },
  {
   "cell_type": "markdown",
   "metadata": {},
   "source": [
    "# Load ModelNet40"
   ]
  },
  {
   "cell_type": "code",
   "execution_count": 2,
   "metadata": {},
   "outputs": [
    {
     "name": "stdout",
     "output_type": "stream",
     "text": [
      "(9843, 1, 32, 32, 32)\n",
      "(9843,)\n",
      "(2468, 1, 32, 32, 32)\n",
      "(2468,)\n"
     ]
    }
   ],
   "source": [
    "# Load training data\n",
    "data = np.load('Data/ModelNet40/ModelNet40Train.npz', allow_pickle=True)\n",
    "\n",
    "# Parser cuts off anything with an underscore. This array is modified to match\n",
    "labels = [\n",
    "    'airplane', 'bathtub', 'bed', 'bench', 'bookshelf', 'bottle', 'bowl', 'car',\n",
    "    'chair', 'cone', 'cup', 'curtain', 'desk', 'door', 'dresser', 'flower',\n",
    "    'glass', 'guitar', 'keyboard', 'lamp', 'laptop', 'mantel', 'monitor',\n",
    "    'night', 'person', 'piano', 'plant', 'radio', 'range', 'sink',\n",
    "    'sofa', 'stairs', 'stool', 'table', 'tent', 'toilet', 'tv', 'vase',\n",
    "    'wardrobe', 'xbox'\n",
    "]\n",
    "\n",
    "train_data = np.expand_dims(data['data'], axis=1)\n",
    "train_labels = data['labels']\n",
    "\n",
    "print(train_data.shape)\n",
    "print(train_labels.shape)\n",
    "\n",
    "# Convert labels to integer values so they can be converted to tensors\n",
    "label_as_int = []\n",
    "for i in data['labels']:\n",
    "   label_as_int.append(int(labels.index(i)))\n",
    "\n",
    "train_data = torch.utils.data.TensorDataset(torch.FloatTensor(train_data).to(device),torch.LongTensor(label_as_int).to(device))\n",
    "\n",
    "\n",
    "# Load test data\n",
    "data = np.load('Data/ModelNet40/ModelNet40Test.npz', allow_pickle=True)\n",
    "\n",
    "test_data = np.expand_dims(data['data'], axis=1)\n",
    "test_labels = data['labels']\n",
    "\n",
    "print(test_data.shape)\n",
    "print(test_labels.shape)\n",
    "\n",
    "# Convert labels to integer values so they can be converted to tensors\n",
    "label_as_int = []\n",
    "for i in data['labels']:\n",
    "   label_as_int.append(int(labels.index(i)))\n",
    "\n",
    "test_data = torch.utils.data.TensorDataset(torch.FloatTensor(test_data).to(device),torch.LongTensor(label_as_int).to(device))"
   ]
  },
  {
   "cell_type": "markdown",
   "metadata": {},
   "source": [
    "# Load ShapeNet"
   ]
  },
  {
   "cell_type": "code",
   "execution_count": null,
   "metadata": {},
   "outputs": [],
   "source": [
    "# Load training data\n",
    "data = np.load('Data/ShapeNet/ShapeNetTrain.npz', allow_pickle=True)\n",
    "\n",
    "# Get a list of all possible labels in dataset\n",
    "labels = ['Airplane', 'Bag', 'Cap', 'Car', 'Chair', 'Earphone', 'Guitar', 'Knife', 'Lamp', 'Laptop', 'Motorbike', 'Mug', 'Pistol', 'Rocket', 'Skateboard', 'Table']\n",
    "\n",
    "# shapenet_labels = []\n",
    "# for x in data['labels']:\n",
    "#     if x not in shapenet_labels:\n",
    "#         shapenet_labels.append(x)\n",
    "# print(shapenet_labels)\n",
    "\n",
    "train_data = np.expand_dims(data['data'], axis=1)\n",
    "train_labels = data['labels']\n",
    "\n",
    "print(train_data.shape)\n",
    "print(train_labels.shape)\n",
    "\n",
    "# Convert labels to integer values so they can be converted to tensors\n",
    "label_as_int = []\n",
    "for i in data['labels']:\n",
    "   label_as_int.append(int(labels.index(i)))\n",
    "\n",
    "train_data = torch.utils.data.TensorDataset(torch.FloatTensor(train_data).to(device),torch.LongTensor(label_as_int).to(device))\n",
    "\n",
    "\n",
    "# Load test data\n",
    "data = np.load('Data/ShapeNet/ShapeNetTest.npz', allow_pickle=True)\n",
    "\n",
    "test_data = np.expand_dims(data['data'], axis=1)\n",
    "test_labels = data['labels']\n",
    "\n",
    "print(test_data.shape)\n",
    "print(test_labels.shape)\n",
    "\n",
    "# Convert labels to integer values so they can be converted to tensors\n",
    "label_as_int = []\n",
    "for i in data['labels']:\n",
    "   label_as_int.append(int(labels.index(i)))\n",
    "\n",
    "test_data = torch.utils.data.TensorDataset(torch.FloatTensor(test_data).to(device),torch.LongTensor(label_as_int).to(device))"
   ]
  },
  {
   "cell_type": "markdown",
   "metadata": {},
   "source": [
    "# Testing VoxNet"
   ]
  },
  {
   "cell_type": "code",
   "execution_count": 5,
   "metadata": {},
   "outputs": [
    {
     "name": "stdout",
     "output_type": "stream",
     "text": [
      "40\n",
      "Training accuracy: 64.94299674267101\n",
      "Testing accuracy: 58.685064935064936\n"
     ]
    },
    {
     "ename": "KeyboardInterrupt",
     "evalue": "",
     "output_type": "error",
     "traceback": [
      "\u001b[1;31m---------------------------------------------------------------------------\u001b[0m",
      "\u001b[1;31mKeyboardInterrupt\u001b[0m                         Traceback (most recent call last)",
      "Cell \u001b[1;32mIn[5], line 46\u001b[0m\n\u001b[0;32m     43\u001b[0m     loss \u001b[38;5;241m=\u001b[39m criterion(output, vox_labels)\n\u001b[0;32m     45\u001b[0m     optimizer\u001b[38;5;241m.\u001b[39mzero_grad()\n\u001b[1;32m---> 46\u001b[0m     \u001b[43mloss\u001b[49m\u001b[38;5;241;43m.\u001b[39;49m\u001b[43mbackward\u001b[49m\u001b[43m(\u001b[49m\u001b[43m)\u001b[49m\n\u001b[0;32m     47\u001b[0m     optimizer\u001b[38;5;241m.\u001b[39mstep()\n\u001b[0;32m     49\u001b[0m \u001b[38;5;66;03m# Test VoxNet after training\u001b[39;00m\n",
      "File \u001b[1;32m~\\AppData\\Local\\Packages\\PythonSoftwareFoundation.Python.3.10_qbz5n2kfra8p0\\LocalCache\\local-packages\\Python310\\site-packages\\torch\\_tensor.py:492\u001b[0m, in \u001b[0;36mTensor.backward\u001b[1;34m(self, gradient, retain_graph, create_graph, inputs)\u001b[0m\n\u001b[0;32m    482\u001b[0m \u001b[38;5;28;01mif\u001b[39;00m has_torch_function_unary(\u001b[38;5;28mself\u001b[39m):\n\u001b[0;32m    483\u001b[0m     \u001b[38;5;28;01mreturn\u001b[39;00m handle_torch_function(\n\u001b[0;32m    484\u001b[0m         Tensor\u001b[38;5;241m.\u001b[39mbackward,\n\u001b[0;32m    485\u001b[0m         (\u001b[38;5;28mself\u001b[39m,),\n\u001b[1;32m   (...)\u001b[0m\n\u001b[0;32m    490\u001b[0m         inputs\u001b[38;5;241m=\u001b[39minputs,\n\u001b[0;32m    491\u001b[0m     )\n\u001b[1;32m--> 492\u001b[0m \u001b[43mtorch\u001b[49m\u001b[38;5;241;43m.\u001b[39;49m\u001b[43mautograd\u001b[49m\u001b[38;5;241;43m.\u001b[39;49m\u001b[43mbackward\u001b[49m\u001b[43m(\u001b[49m\n\u001b[0;32m    493\u001b[0m \u001b[43m    \u001b[49m\u001b[38;5;28;43mself\u001b[39;49m\u001b[43m,\u001b[49m\u001b[43m \u001b[49m\u001b[43mgradient\u001b[49m\u001b[43m,\u001b[49m\u001b[43m \u001b[49m\u001b[43mretain_graph\u001b[49m\u001b[43m,\u001b[49m\u001b[43m \u001b[49m\u001b[43mcreate_graph\u001b[49m\u001b[43m,\u001b[49m\u001b[43m \u001b[49m\u001b[43minputs\u001b[49m\u001b[38;5;241;43m=\u001b[39;49m\u001b[43minputs\u001b[49m\n\u001b[0;32m    494\u001b[0m \u001b[43m\u001b[49m\u001b[43m)\u001b[49m\n",
      "File \u001b[1;32m~\\AppData\\Local\\Packages\\PythonSoftwareFoundation.Python.3.10_qbz5n2kfra8p0\\LocalCache\\local-packages\\Python310\\site-packages\\torch\\autograd\\__init__.py:251\u001b[0m, in \u001b[0;36mbackward\u001b[1;34m(tensors, grad_tensors, retain_graph, create_graph, grad_variables, inputs)\u001b[0m\n\u001b[0;32m    246\u001b[0m     retain_graph \u001b[38;5;241m=\u001b[39m create_graph\n\u001b[0;32m    248\u001b[0m \u001b[38;5;66;03m# The reason we repeat the same comment below is that\u001b[39;00m\n\u001b[0;32m    249\u001b[0m \u001b[38;5;66;03m# some Python versions print out the first line of a multi-line function\u001b[39;00m\n\u001b[0;32m    250\u001b[0m \u001b[38;5;66;03m# calls in the traceback and some print out the last line\u001b[39;00m\n\u001b[1;32m--> 251\u001b[0m \u001b[43mVariable\u001b[49m\u001b[38;5;241;43m.\u001b[39;49m\u001b[43m_execution_engine\u001b[49m\u001b[38;5;241;43m.\u001b[39;49m\u001b[43mrun_backward\u001b[49m\u001b[43m(\u001b[49m\u001b[43m  \u001b[49m\u001b[38;5;66;43;03m# Calls into the C++ engine to run the backward pass\u001b[39;49;00m\n\u001b[0;32m    252\u001b[0m \u001b[43m    \u001b[49m\u001b[43mtensors\u001b[49m\u001b[43m,\u001b[49m\n\u001b[0;32m    253\u001b[0m \u001b[43m    \u001b[49m\u001b[43mgrad_tensors_\u001b[49m\u001b[43m,\u001b[49m\n\u001b[0;32m    254\u001b[0m \u001b[43m    \u001b[49m\u001b[43mretain_graph\u001b[49m\u001b[43m,\u001b[49m\n\u001b[0;32m    255\u001b[0m \u001b[43m    \u001b[49m\u001b[43mcreate_graph\u001b[49m\u001b[43m,\u001b[49m\n\u001b[0;32m    256\u001b[0m \u001b[43m    \u001b[49m\u001b[43minputs\u001b[49m\u001b[43m,\u001b[49m\n\u001b[0;32m    257\u001b[0m \u001b[43m    \u001b[49m\u001b[43mallow_unreachable\u001b[49m\u001b[38;5;241;43m=\u001b[39;49m\u001b[38;5;28;43;01mTrue\u001b[39;49;00m\u001b[43m,\u001b[49m\n\u001b[0;32m    258\u001b[0m \u001b[43m    \u001b[49m\u001b[43maccumulate_grad\u001b[49m\u001b[38;5;241;43m=\u001b[39;49m\u001b[38;5;28;43;01mTrue\u001b[39;49;00m\u001b[43m,\u001b[49m\n\u001b[0;32m    259\u001b[0m \u001b[43m\u001b[49m\u001b[43m)\u001b[49m\n",
      "\u001b[1;31mKeyboardInterrupt\u001b[0m: "
     ]
    }
   ],
   "source": [
    "# Hyperparameters\n",
    "batch_size = 32\n",
    "num_classes = len(labels)\n",
    "print(num_classes)\n",
    "\n",
    "learning_rate = 0.01 # Decreases by a factor of 10 every 40000 batches\n",
    "momentum = 0.9\n",
    "weight_decay = 0.001\n",
    "decay_iter = 40000\n",
    "epochs = 10\n",
    "\n",
    "# Load data in batch sizes\n",
    "train_loader = torch.utils.data.DataLoader(train_data, batch_size=batch_size, shuffle=True, num_workers=2)\n",
    "test_loader = torch.utils.data.DataLoader(test_data, batch_size=batch_size, shuffle=True, num_workers=2)\n",
    "\n",
    "model = VoxNet.VoxNet(num_classes)\n",
    "model = model.float()\n",
    "model.to(device)\n",
    "\n",
    "optimizer = torch.optim.SGD(model.parameters(), lr=learning_rate, momentum=momentum, weight_decay=weight_decay)\n",
    "criterion = torch.nn.CrossEntropyLoss()\n",
    "\n",
    "training_accuracy = []\n",
    "testing_accuracy = []\n",
    "batch_number = 0\n",
    "\n",
    "for epoch in range(epochs):\n",
    "    if epoch % 1 == 0:\n",
    "        print(\"epoch:\", epoch+1)\n",
    "    \n",
    "    for (vox_grids, vox_labels) in train_loader:\n",
    "        batch_number += 1\n",
    "\n",
    "        if batch_number % decay_iter == 0:\n",
    "            print(\"Decreasing learning rate\")\n",
    "            learning_rate *= 0.1\n",
    "\n",
    "        # print(len(vox_grids))\n",
    "        if (len(vox_grids) < batch_size):\n",
    "            continue\n",
    "\n",
    "        output = model(vox_grids)\n",
    "        loss = criterion(output, vox_labels)\n",
    "        \n",
    "        optimizer.zero_grad()\n",
    "        loss.backward()\n",
    "        optimizer.step()\n",
    "\n",
    "    # Test VoxNet after training\n",
    "    with torch.no_grad():\n",
    "        num_correct = 0\n",
    "        total = 0\n",
    "\n",
    "        for (grids, labels) in train_loader:\n",
    "            if (len(grids) < batch_size):\n",
    "                continue\n",
    "\n",
    "            output = model(grids)\n",
    "\n",
    "            _, predictions = torch.max(output, 1)\n",
    "\n",
    "            num_correct += (predictions == labels).sum().item()\n",
    "            total += labels.shape[0]\n",
    "        \n",
    "        accuracy = (num_correct / total) * 100.0\n",
    "        training_accuracy.append(accuracy)\n",
    "        print(\"Training accuracy:\", accuracy)\n",
    "\n",
    "        num_correct = 0\n",
    "        total = 0\n",
    "\n",
    "        for (grids, labels) in test_loader:\n",
    "            if (len(grids) < batch_size):\n",
    "                continue\n",
    "\n",
    "            output = model(grids)\n",
    "\n",
    "            _, predictions = torch.max(output, 1)\n",
    "\n",
    "            num_correct += (predictions == labels).sum().item()\n",
    "            total += labels.shape[0]\n",
    "        \n",
    "        accuracy = (num_correct / total) * 100.0\n",
    "        testing_accuracy.append(accuracy)\n",
    "        print(\"Testing accuracy:\", accuracy)\n",
    "\n",
    "line_one = plt.plot(range(len(training_accuracy)), training_accuracy, label='Training Accuracy')\n",
    "line_two = plt.plot(range(len(testing_accuracy)), testing_accuracy, label='Testing Accuracy')\n",
    "plt.legend()\n",
    "plt.ylim(0,100.0)\n",
    "plt.ylabel('Accuracy')\n",
    "plt.xlabel('Epochs')"
   ]
  }
 ],
 "metadata": {
  "kernelspec": {
   "display_name": "Python 3",
   "language": "python",
   "name": "python3"
  },
  "language_info": {
   "codemirror_mode": {
    "name": "ipython",
    "version": 3
   },
   "file_extension": ".py",
   "mimetype": "text/x-python",
   "name": "python",
   "nbconvert_exporter": "python",
   "pygments_lexer": "ipython3",
   "version": "3.10.11"
  }
 },
 "nbformat": 4,
 "nbformat_minor": 2
}
