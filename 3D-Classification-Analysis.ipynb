{
 "cells": [
  {
   "cell_type": "markdown",
   "metadata": {},
   "source": [
    "## Import Dependencies"
   ]
  },
  {
   "cell_type": "code",
   "execution_count": null,
   "metadata": {},
   "outputs": [],
   "source": [
    "import numpy as np\n",
    "from Scripts import VoxelizeData"
   ]
  },
  {
   "cell_type": "markdown",
   "metadata": {},
   "source": [
    "## Voxelize Necessary Datasets"
   ]
  },
  {
   "cell_type": "markdown",
   "metadata": {},
   "source": [
    "### Voxelize ModelNet40 Dataset"
   ]
  },
  {
   "cell_type": "code",
   "execution_count": null,
   "metadata": {},
   "outputs": [],
   "source": [
    "path = 'Data/ModelNet40/'\n",
    "dataset = 'ModelNet40'\n",
    "save_path = 'Data/ModelNet40/ModelNet40'\n",
    "\n",
    "vox = VoxelizeData.Voxelize(path, dataset, system='Unix', save=True, save_path=save_path, overwrite=False)"
   ]
  },
  {
   "cell_type": "markdown",
   "metadata": {},
   "source": [
    "### Test Voxelized ModelNet40 Data"
   ]
  },
  {
   "cell_type": "code",
   "execution_count": null,
   "metadata": {},
   "outputs": [],
   "source": [
    "data = np.load('Data/ModelNet40/ModelNet40Train.npz', allow_pickle=True)\n",
    "\n",
    "train_data = data['data']\n",
    "train_labels = data['labels']\n",
    "\n",
    "print(train_data.shape)\n",
    "print(train_labels.shape)\n",
    "\n",
    "vox.render(train_data[0])\n",
    "\n",
    "data = np.load('Data/ModelNet40/ModelNet40Test.npz', allow_pickle=True)\n",
    "\n",
    "test_data = data['data']\n",
    "test_labels = data['labels']\n",
    "\n",
    "print(test_data.shape)\n",
    "print(test_labels.shape)\n",
    "\n",
    "vox.render(test_data[0])"
   ]
  },
  {
   "cell_type": "markdown",
   "metadata": {},
   "source": [
    "### Voxelize Toy4K Dataset"
   ]
  },
  {
   "cell_type": "code",
   "execution_count": null,
   "metadata": {},
   "outputs": [],
   "source": [
    "path = 'Data/toys4k_obj_files/'\n",
    "dataset = 'Toys4K'\n",
    "save_path = 'Data/toys4k_obj_files/toys4k'\n",
    "\n",
    "vox = VoxelizeData.Voxelize(path, dataset, system='Unix', save=True, save_path=save_path, overwrite=False)"
   ]
  },
  {
   "cell_type": "markdown",
   "metadata": {},
   "source": [
    "### Test Voxelized Toy4K Data"
   ]
  },
  {
   "cell_type": "code",
   "execution_count": null,
   "metadata": {},
   "outputs": [],
   "source": [
    "data = np.load('Data/toys4k_obj_files/Toys4KTrain.npz', allow_pickle=True)\n",
    "\n",
    "train_data = data['data']\n",
    "train_labels = data['labels']\n",
    "\n",
    "print(train_data.shape)\n",
    "print(train_labels.shape)\n",
    "\n",
    "vox.render(train_data[0])\n",
    "\n",
    "data = np.load('Data/toys4k_obj_files/Toys4KTest.npz', allow_pickle=True)\n",
    "\n",
    "test_data = data['data']\n",
    "test_labels = data['labels']\n",
    "\n",
    "print(test_data.shape)\n",
    "print(test_labels.shape)\n",
    "\n",
    "vox.render(test_data[0])"
   ]
  }
 ],
 "metadata": {
  "kernelspec": {
   "display_name": "base",
   "language": "python",
   "name": "python3"
  },
  "language_info": {
   "codemirror_mode": {
    "name": "ipython",
    "version": 3
   },
   "file_extension": ".py",
   "mimetype": "text/x-python",
   "name": "python",
   "nbconvert_exporter": "python",
   "pygments_lexer": "ipython3",
   "version": "3.11.4"
  }
 },
 "nbformat": 4,
 "nbformat_minor": 2
}
