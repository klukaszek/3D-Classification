{
 "cells": [
  {
   "cell_type": "markdown",
   "metadata": {},
   "source": [
    "## Import Dependencies"
   ]
  },
  {
   "cell_type": "code",
   "execution_count": null,
   "metadata": {},
   "outputs": [],
   "source": [
    "import numpy as np\n",
    "from Scripts import VoxelizeData\n",
    "from Scripts import VoxNet\n",
    "import torch"
   ]
  },
  {
   "cell_type": "markdown",
   "metadata": {},
   "source": [
    "## Voxelize Necessary Datasets"
   ]
  },
  {
   "cell_type": "markdown",
   "metadata": {},
   "source": [
    "### Voxelize ModelNet40 Dataset"
   ]
  },
  {
   "cell_type": "code",
   "execution_count": null,
   "metadata": {},
   "outputs": [],
   "source": [
    "path = './Data/ModelNet40/'\n",
    "dataset = 'ModelNet40'\n",
    "\n",
    "# vox = VoxelizeData.Voxelize(path, dataset, system='Windows', save=True, save_path=path, overwrite=False)"
   ]
  },
  {
   "cell_type": "markdown",
   "metadata": {},
   "source": [
    "### Test Voxelized ModelNet40 Data"
   ]
  },
  {
   "cell_type": "code",
   "execution_count": null,
   "metadata": {},
   "outputs": [],
   "source": [
    "# Load training data\n",
    "data = np.load('Data/ModelNet40/ModelNet40Train.npz', allow_pickle=True)\n",
    "\n",
    "# Parser cuts off anything with an underscore. This array is modified to match\n",
    "modelnet_labels = [\n",
    "    'airplane', 'bathtub', 'bed', 'bench', 'bookshelf', 'bottle', 'bowl', 'car',\n",
    "    'chair', 'cone', 'cup', 'curtain', 'desk', 'door', 'dresser', 'flower',\n",
    "    'glass', 'guitar', 'keyboard', 'lamp', 'laptop', 'mantel', 'monitor',\n",
    "    'night', 'person', 'piano', 'plant', 'radio', 'range', 'sink',\n",
    "    'sofa', 'stairs', 'stool', 'table', 'tent', 'toilet', 'tv', 'vase',\n",
    "    'wardrobe', 'xbox'\n",
    "]\n",
    "\n",
    "train_data = data['data']\n",
    "train_labels = data['labels']\n",
    "\n",
    "print(train_data.shape)\n",
    "print(train_labels.shape)\n",
    "\n",
    "# Convert labels to integer values so they can be converted to tensors\n",
    "label_as_int = []\n",
    "for i in data['labels']:\n",
    "   label_as_int.append(int(modelnet_labels.index(i)))\n",
    "\n",
    "train_data = torch.utils.data.TensorDataset(torch.FloatTensor(train_data),torch.LongTensor(label_as_int))\n",
    "\n",
    "# vox.render(train_data[0])\n",
    "\n",
    "# Load test data\n",
    "data = np.load('Data/ModelNet40/ModelNet40Test.npz', allow_pickle=True)\n",
    "\n",
    "test_data = data['data']\n",
    "test_labels = data['labels']\n",
    "\n",
    "print(test_data.shape)\n",
    "print(test_labels.shape)\n",
    "\n",
    "# Convert labels to integer values so they can be converted to tensors\n",
    "label_as_int = []\n",
    "for i in data['labels']:\n",
    "   label_as_int.append(int(modelnet_labels.index(i)))\n",
    "\n",
    "test_data = torch.utils.data.TensorDataset(torch.FloatTensor(test_data),torch.LongTensor(label_as_int))\n",
    "\n",
    "# vox.render(test_data[0])\n",
    "\n",
    "# Hyperparameters\n",
    "batch_size = 32\n",
    "num_classes = 40\n",
    "learning_rate = 0.01 # Decreases by a factor of 10 every 80000 batches\n",
    "momentum = 0.9\n",
    "weight_decay = 0.001\n",
    "epochs = 1\n",
    "\n",
    "# Load data in batch sizes\n",
    "train_loader = torch.utils.data.DataLoader(train_data, batch_size=batch_size, shuffle=True, num_workers=2)\n",
    "test_loader = torch.utils.data.DataLoader(test_data, batch_size=batch_size, shuffle=True, num_workers=2)\n",
    "\n",
    "model = VoxNet.VoxNet(num_classes)\n",
    "model = model.float()\n",
    "\n",
    "optimizer = torch.optim.SGD(model.parameters(), lr=learning_rate, momentum=momentum, weight_decay=weight_decay)\n",
    "criterion = torch.nn.CrossEntropyLoss()\n",
    "\n",
    "for epoch in range(epochs):\n",
    "    print(\"epoch:\", epoch)\n",
    "    for (vox_grids, vox_labels) in train_loader:\n",
    "        # print(len(vox_grids))\n",
    "        if (len(vox_grids) < batch_size):\n",
    "            continue\n",
    "\n",
    "        output = model(vox_grids)\n",
    "        loss = criterion(output, vox_labels)\n",
    "        \n",
    "        optimizer.zero_grad()\n",
    "        loss.backward()\n",
    "        optimizer.step()\n",
    "\n",
    "    # Test VoxNet after training\n",
    "    with torch.no_grad():\n",
    "        num_correct = 0\n",
    "        total = 0\n",
    "\n",
    "        for (grids, labels) in test_loader:\n",
    "            if (len(grids) < batch_size):\n",
    "                continue\n",
    "            \n",
    "            output = model(grids)\n",
    "\n",
    "            _, predictions = torch.max(output, 1)\n",
    "\n",
    "            num_correct += (predictions == labels).sum().item()\n",
    "            total += labels.shape[0]\n",
    "        \n",
    "        accuracy = (num_correct / total) * 100.0\n",
    "\n",
    "        print(accuracy)\n",
    "\n"
   ]
  },
  {
   "cell_type": "markdown",
   "metadata": {},
   "source": [
    "### Voxelize Toy4K Dataset"
   ]
  },
  {
   "cell_type": "code",
   "execution_count": null,
   "metadata": {},
   "outputs": [],
   "source": [
    "path = 'Data/toys4k_obj_files/'\n",
    "dataset = 'Toys4K'\n",
    "\n",
    "vox = VoxelizeData.Voxelize(path, dataset, system='Unix', render=True, save=True, save_path=path, overwrite=False)"
   ]
  }
 ],
 "metadata": {
  "kernelspec": {
   "display_name": "base",
   "language": "python",
   "name": "python3"
  },
  "language_info": {
   "codemirror_mode": {
    "name": "ipython",
    "version": 3
   },
   "file_extension": ".py",
   "mimetype": "text/x-python",
   "name": "python",
   "nbconvert_exporter": "python",
   "pygments_lexer": "ipython3",
   "version": "3.10.11"
  }
 },
 "nbformat": 4,
 "nbformat_minor": 2
}
